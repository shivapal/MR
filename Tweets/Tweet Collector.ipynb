{
 "cells": [
  {
   "cell_type": "code",
   "execution_count": 8,
   "metadata": {},
   "outputs": [],
   "source": [
    "library(rtweet)"
   ]
  },
  {
   "cell_type": "code",
   "execution_count": 4,
   "metadata": {},
   "outputs": [],
   "source": [
    "token <- create_token(\n",
    "    app = \"cse487/587Lab1\",\n",
    "    consumer_key = \"y7Hd2hpV1mrtNoqyadIXjfH4c\",\n",
    "    consumer_secret =\"gm3fhY3wHsJJZFykDafLBqYkNN5vL8ltQKgg746lfRU2qzq1Ky\",\n",
    "    access_token = \"935345877715243008-qqzLBe0YhamrabXw6bkHQYymIRmRisG\",\n",
    "    access_secret = \"reCFuv7atTTMTvnhlrqCzZ1QV4QAg2NgFd8Wi4QuLyd2k\")"
   ]
  },
  {
   "cell_type": "code",
   "execution_count": 5,
   "metadata": {},
   "outputs": [
    {
     "name": "stderr",
     "output_type": "stream",
     "text": [
      "retry on rate limit...\n",
      "waiting about 14 minutes...\n"
     ]
    }
   ],
   "source": [
    "terms_search = \"sports OR basketball OR hockey OR tennis OR football OR soccer -filter:retweets\"\n",
    "sportsTweets <- search_tweets(\n",
    "  terms_search, n = 20000, include_rts = FALSE, retryonratelimit=TRUE, \n",
    "    lang = \"en\", token = token \n",
    ")"
   ]
  },
  {
   "cell_type": "code",
   "execution_count": 6,
   "metadata": {},
   "outputs": [],
   "source": [
    "save_as_csv(sportsTweets, file_name = \"tweets.csv\", prepend_ids = TRUE, na=\"\", fileEncoding = \"UTF-8\")"
   ]
  },
  {
   "cell_type": "code",
   "execution_count": 4,
   "metadata": {},
   "outputs": [],
   "source": [
    "data = read.csv(\"tweets.csv\", header = TRUE, encoding=\"UTF-8\", stringsAsFactors=FALSE)"
   ]
  },
  {
   "cell_type": "code",
   "execution_count": 5,
   "metadata": {},
   "outputs": [],
   "source": [
    "sportTexts = data['text']"
   ]
  },
  {
   "cell_type": "code",
   "execution_count": 24,
   "metadata": {},
   "outputs": [
    {
     "name": "stderr",
     "output_type": "stream",
     "text": [
      "Warning message in write.table(data.frame(text), \"test2.csv\", append = T, sep = \",\", :\n",
      "\"appending column names to file\""
     ]
    },
    {
     "data": {
      "text/plain": [
       "$text\n",
       "NULL\n"
      ]
     },
     "metadata": {},
     "output_type": "display_data"
    }
   ],
   "source": [
    "lapply(sportTexts, function(text) write.table( data.frame(text), 'SportTweet.csv'  , append= T, sep=',' , row.names = FALSE))"
   ]
  },
  {
   "cell_type": "code",
   "execution_count": null,
   "metadata": {},
   "outputs": [],
   "source": []
  }
 ],
 "metadata": {
  "kernelspec": {
   "display_name": "R",
   "language": "R",
   "name": "ir"
  },
  "language_info": {
   "codemirror_mode": "r",
   "file_extension": ".r",
   "mimetype": "text/x-r-source",
   "name": "R",
   "pygments_lexer": "r",
   "version": "3.4.3"
  }
 },
 "nbformat": 4,
 "nbformat_minor": 2
}
