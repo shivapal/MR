{
 "cells": [
  {
   "cell_type": "code",
   "execution_count": 2,
   "metadata": {},
   "outputs": [],
   "source": [
    "import warc\n",
    "import requests\n",
    "from contextlib import closing\n",
    "from bs4 import BeautifulSoup\n",
    "from langdetect import detect\n",
    "import csv"
   ]
  },
  {
   "cell_type": "code",
   "execution_count": 4,
   "metadata": {},
   "outputs": [],
   "source": [
    "topics = [\"sport\", \"basketball\", \"hockey\", \"tennis\", \"football\", \"soccer\"]\n",
    "files = [\"Files/CC-MAIN-20190318132220-20190318153611-00020.warc.wet.gz\",\n",
    "        \"Files/CC-MAIN-20190318132220-20190318153613-00044.warc.wet.gz\",\n",
    "        \"Files/CC-MAIN-20190318132220-20190318153615-00002.warc.wet.gz\",\n",
    "        \"Files/CC-MAIN-20190318132220-20190318153617-00010.warc.wet.gz\",\n",
    "        \"Files/CC-MAIN-20190318132220-20190318153617-00012.warc.wet.gz\"]\n",
    "urls = []\n",
    "for f in files:\n",
    "    file = warc.open(f)\n",
    "    for record in file:\n",
    "        if record.url is not None: \n",
    "            urls.append(record.url)"
   ]
  },
  {
   "cell_type": "code",
   "execution_count": 11,
   "metadata": {},
   "outputs": [],
   "source": [
    "urls = set(urls)"
   ]
  },
  {
   "cell_type": "code",
   "execution_count": 12,
   "metadata": {},
   "outputs": [],
   "source": [
    "link = []\n",
    "articleText = []"
   ]
  },
  {
   "cell_type": "code",
   "execution_count": 24,
   "metadata": {},
   "outputs": [
    {
     "name": "stderr",
     "output_type": "stream",
     "text": [
      "Some characters could not be decoded, and were replaced with REPLACEMENT CHARACTER.\n",
      "Some characters could not be decoded, and were replaced with REPLACEMENT CHARACTER.\n",
      "Some characters could not be decoded, and were replaced with REPLACEMENT CHARACTER.\n",
      "Some characters could not be decoded, and were replaced with REPLACEMENT CHARACTER.\n"
     ]
    }
   ],
   "source": [
    "count = 0\n",
    "for url_links in urls: \n",
    "    if any(topic in url_links for topic in topics):\n",
    "        try:\n",
    "            page = requests.get(url_links)\n",
    "            soup = BeautifulSoup(page.content, \"html.parser\")\n",
    "            texts = []\n",
    "            temp = \"\"\n",
    "            for text in soup.findAll('p'):\n",
    "                t = text.getText().rstrip()\n",
    "                t = ' '.join(t.split())\n",
    "                if t:\n",
    "                    temp += t\n",
    "                    texts.append(t)\n",
    "            if temp and any(topic in temp for topic in topics) and detect(temp) == 'en':\n",
    "                link.append(url_links)\n",
    "                articleText.append(texts)\n",
    "                count +=1\n",
    "        except:\n",
    "            # print(url_links)\n",
    "            continue"
   ]
  },
  {
   "cell_type": "code",
   "execution_count": 27,
   "metadata": {},
   "outputs": [],
   "source": [
    "with open(\"CommonCrawlText.csv\", mode = 'w', newline='\\n', encoding = \"utf-8-sig\") as file:\n",
    "    writer = csv.writer(file, delimiter = ',')\n",
    "    for string in articleText:\n",
    "        writer.writerow(string)\n",
    "file.close()"
   ]
  },
  {
   "cell_type": "code",
   "execution_count": 29,
   "metadata": {},
   "outputs": [],
   "source": [
    "with open(\"CommonCrawlURL.csv\", mode = 'w', newline='\\n', encoding = \"utf-8-sig\") as file:\n",
    "    writer = csv.writer(file, delimiter = ',')\n",
    "    for l in link:\n",
    "        writer.writerow([l])\n",
    "file.close()"
   ]
  },
  {
   "cell_type": "code",
   "execution_count": null,
   "metadata": {},
   "outputs": [],
   "source": []
  }
 ],
 "metadata": {
  "kernelspec": {
   "display_name": "Python 3",
   "language": "python",
   "name": "python3"
  },
  "language_info": {
   "codemirror_mode": {
    "name": "ipython",
    "version": 3
   },
   "file_extension": ".py",
   "mimetype": "text/x-python",
   "name": "python",
   "nbconvert_exporter": "python",
   "pygments_lexer": "ipython3",
   "version": "3.7.3"
  }
 },
 "nbformat": 4,
 "nbformat_minor": 2
}
